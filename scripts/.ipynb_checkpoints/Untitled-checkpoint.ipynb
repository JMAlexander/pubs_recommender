{
 "cells": [
  {
   "cell_type": "code",
   "execution_count": 226,
   "id": "01c93f3a-b1ce-4c44-9106-84895d9babb8",
   "metadata": {},
   "outputs": [],
   "source": [
    "import source as lang_helper\n",
    "import glob\n",
    "import matplotlib.pyplot as plt"
   ]
  },
  {
   "cell_type": "code",
   "execution_count": 6,
   "id": "a699db1a-b2ff-425a-aee1-e23a366fb9e3",
   "metadata": {},
   "outputs": [
    {
     "name": "stdout",
     "output_type": "stream",
     "text": [
      "['/mnt/volume_nyc1_01/users/jeff/DS_projects/literature_analysis/data/2024_10_20_papers_library.csv', '/mnt/volume_nyc1_01/users/jeff/DS_projects/literature_analysis/data/2024_10_26_papers_library.csv', '/mnt/volume_nyc1_01/users/jeff/DS_projects/literature_analysis/data/2024_11_23_papers_library.csv', '/mnt/volume_nyc1_01/users/jeff/DS_projects/literature_analysis/data/2024_01_25_papers_library.csv']\n"
     ]
    }
   ],
   "source": [
    "library_archives = glob.glob(f\"/mnt/volume_nyc1_01/users/jeff/DS_projects/literature_analysis/data/????_??_??_papers_library.csv\")\n",
    "print(library_archives)"
   ]
  },
  {
   "cell_type": "code",
   "execution_count": 3,
   "id": "510da7a6-f210-47a2-8f4c-65e3447e3a2f",
   "metadata": {},
   "outputs": [
    {
     "name": "stdout",
     "output_type": "stream",
     "text": [
      "2024-10-20\n",
      "2024-10-26\n",
      "2024-11-23\n",
      "2025-01-25\n",
      "/mnt/volume_nyc1_01/users/jeff/DS_projects/literature_analysis/data/2025_01_25_papers_library.csv\n"
     ]
    }
   ],
   "source": [
    "lib = lang_helper.load_recent_library('/mnt/volume_nyc1_01/users/jeff/DS_projects/literature_analysis/data/')\n"
   ]
  },
  {
   "cell_type": "code",
   "execution_count": 19,
   "id": "a7f1894e-da08-45cf-bffb-9f76b3249a82",
   "metadata": {},
   "outputs": [
    {
     "name": "stdout",
     "output_type": "stream",
     "text": [
      "None\n"
     ]
    },
    {
     "ename": "ValueError",
     "evalue": "Invalid file path or buffer object type: <class 'NoneType'>",
     "output_type": "error",
     "traceback": [
      "\u001b[0;31m---------------------------------------------------------------------------\u001b[0m",
      "\u001b[0;31mValueError\u001b[0m                                Traceback (most recent call last)",
      "File \u001b[0;32m/mnt/volume_nyc1_01/users/jeff/DS_projects/literature_analysis/scripts/paper_recommendations.py:36\u001b[0m\n\u001b[1;32m     15\u001b[0m feeds \u001b[38;5;241m=\u001b[39m [\n\u001b[1;32m     16\u001b[0m             \u001b[38;5;124m'\u001b[39m\u001b[38;5;124mhttps://www.nature.com/nrd.rss\u001b[39m\u001b[38;5;124m'\u001b[39m,\n\u001b[1;32m     17\u001b[0m             \u001b[38;5;124m'\u001b[39m\u001b[38;5;124mhttps://www.nature.com/nbt.rss\u001b[39m\u001b[38;5;124m'\u001b[39m,\n\u001b[0;32m   (...)\u001b[0m\n\u001b[1;32m     32\u001b[0m             \u001b[38;5;124m'\u001b[39m\u001b[38;5;124mhttps://eurjmedres.biomedcentral.com/articles/most-recent/rss.xml\u001b[39m\u001b[38;5;124m'\u001b[39m\n\u001b[1;32m     33\u001b[0m         ]\n\u001b[1;32m     35\u001b[0m archive_directory \u001b[38;5;241m=\u001b[39m \u001b[38;5;124m'\u001b[39m\u001b[38;5;124m/mnt/volume_nyc1_01/users/jeff/DS_projects/literature_analysis_data/\u001b[39m\u001b[38;5;124m'\u001b[39m\n\u001b[0;32m---> 36\u001b[0m papers_library \u001b[38;5;241m=\u001b[39m \u001b[43mlang_helper\u001b[49m\u001b[38;5;241;43m.\u001b[39;49m\u001b[43mload_recent_library\u001b[49m\u001b[43m(\u001b[49m\u001b[43marchive_directory\u001b[49m\u001b[43m)\u001b[49m\n\u001b[1;32m     39\u001b[0m \u001b[38;5;66;03m# Load the Pubmed model or download it if it doesn't exist locally\u001b[39;00m\n\u001b[1;32m     40\u001b[0m expected_model_location \u001b[38;5;241m=\u001b[39m \u001b[38;5;124m'\u001b[39m\u001b[38;5;124m/mnt/volume_nyc1_01/users/jeff/DS_projects/literature_analysis/models/pubmed2018_w2v_200D.bin\u001b[39m\u001b[38;5;124m'\u001b[39m\n",
      "File \u001b[0;32m/mnt/volume_nyc1_01/users/jeff/DS_projects/literature_analysis/scripts/source.py:126\u001b[0m, in \u001b[0;36mload_recent_library\u001b[0;34m(directory)\u001b[0m\n\u001b[1;32m    124\u001b[0m     return abstracts, tokenized_texts\n\u001b[1;32m    125\u001b[0m \n\u001b[0;32m--> 126\u001b[0m def load_recent_library(directory):\n\u001b[1;32m    127\u001b[0m     today = datetime.today().date()\n\u001b[1;32m    128\u001b[0m     library_paths = glob.glob(f\"{directory}/????_??_??_papers_library.csv\")\n",
      "File \u001b[0;32m/mnt/volume_nyc1_01/users/jeff/DS_projects/literature_analysis/scripts/source.py:19\u001b[0m, in \u001b[0;36mload\u001b[0;34m(self, file)\u001b[0m\n\u001b[1;32m     17\u001b[0m     self.titles = None\n\u001b[1;32m     18\u001b[0m     self.abstract = None\n\u001b[0;32m---> 19\u001b[0m     self.authors = None\n\u001b[1;32m     20\u001b[0m \n\u001b[1;32m     21\u001b[0m def load(self, file):\n",
      "File \u001b[0;32m/usr/lib/venv/lib/python3.12/site-packages/pandas/io/parsers/readers.py:1026\u001b[0m, in \u001b[0;36mread_csv\u001b[0;34m(filepath_or_buffer, sep, delimiter, header, names, index_col, usecols, dtype, engine, converters, true_values, false_values, skipinitialspace, skiprows, skipfooter, nrows, na_values, keep_default_na, na_filter, verbose, skip_blank_lines, parse_dates, infer_datetime_format, keep_date_col, date_parser, date_format, dayfirst, cache_dates, iterator, chunksize, compression, thousands, decimal, lineterminator, quotechar, quoting, doublequote, escapechar, comment, encoding, encoding_errors, dialect, on_bad_lines, delim_whitespace, low_memory, memory_map, float_precision, storage_options, dtype_backend)\u001b[0m\n\u001b[1;32m   1013\u001b[0m kwds_defaults \u001b[38;5;241m=\u001b[39m _refine_defaults_read(\n\u001b[1;32m   1014\u001b[0m     dialect,\n\u001b[1;32m   1015\u001b[0m     delimiter,\n\u001b[0;32m   (...)\u001b[0m\n\u001b[1;32m   1022\u001b[0m     dtype_backend\u001b[38;5;241m=\u001b[39mdtype_backend,\n\u001b[1;32m   1023\u001b[0m )\n\u001b[1;32m   1024\u001b[0m kwds\u001b[38;5;241m.\u001b[39mupdate(kwds_defaults)\n\u001b[0;32m-> 1026\u001b[0m \u001b[38;5;28;01mreturn\u001b[39;00m \u001b[43m_read\u001b[49m\u001b[43m(\u001b[49m\u001b[43mfilepath_or_buffer\u001b[49m\u001b[43m,\u001b[49m\u001b[43m \u001b[49m\u001b[43mkwds\u001b[49m\u001b[43m)\u001b[49m\n",
      "File \u001b[0;32m/usr/lib/venv/lib/python3.12/site-packages/pandas/io/parsers/readers.py:620\u001b[0m, in \u001b[0;36m_read\u001b[0;34m(filepath_or_buffer, kwds)\u001b[0m\n\u001b[1;32m    617\u001b[0m _validate_names(kwds\u001b[38;5;241m.\u001b[39mget(\u001b[38;5;124m\"\u001b[39m\u001b[38;5;124mnames\u001b[39m\u001b[38;5;124m\"\u001b[39m, \u001b[38;5;28;01mNone\u001b[39;00m))\n\u001b[1;32m    619\u001b[0m \u001b[38;5;66;03m# Create the parser.\u001b[39;00m\n\u001b[0;32m--> 620\u001b[0m parser \u001b[38;5;241m=\u001b[39m \u001b[43mTextFileReader\u001b[49m\u001b[43m(\u001b[49m\u001b[43mfilepath_or_buffer\u001b[49m\u001b[43m,\u001b[49m\u001b[43m \u001b[49m\u001b[38;5;241;43m*\u001b[39;49m\u001b[38;5;241;43m*\u001b[39;49m\u001b[43mkwds\u001b[49m\u001b[43m)\u001b[49m\n\u001b[1;32m    622\u001b[0m \u001b[38;5;28;01mif\u001b[39;00m chunksize \u001b[38;5;129;01mor\u001b[39;00m iterator:\n\u001b[1;32m    623\u001b[0m     \u001b[38;5;28;01mreturn\u001b[39;00m parser\n",
      "File \u001b[0;32m/usr/lib/venv/lib/python3.12/site-packages/pandas/io/parsers/readers.py:1620\u001b[0m, in \u001b[0;36mTextFileReader.__init__\u001b[0;34m(self, f, engine, **kwds)\u001b[0m\n\u001b[1;32m   1617\u001b[0m     \u001b[38;5;28mself\u001b[39m\u001b[38;5;241m.\u001b[39moptions[\u001b[38;5;124m\"\u001b[39m\u001b[38;5;124mhas_index_names\u001b[39m\u001b[38;5;124m\"\u001b[39m] \u001b[38;5;241m=\u001b[39m kwds[\u001b[38;5;124m\"\u001b[39m\u001b[38;5;124mhas_index_names\u001b[39m\u001b[38;5;124m\"\u001b[39m]\n\u001b[1;32m   1619\u001b[0m \u001b[38;5;28mself\u001b[39m\u001b[38;5;241m.\u001b[39mhandles: IOHandles \u001b[38;5;241m|\u001b[39m \u001b[38;5;28;01mNone\u001b[39;00m \u001b[38;5;241m=\u001b[39m \u001b[38;5;28;01mNone\u001b[39;00m\n\u001b[0;32m-> 1620\u001b[0m \u001b[38;5;28mself\u001b[39m\u001b[38;5;241m.\u001b[39m_engine \u001b[38;5;241m=\u001b[39m \u001b[38;5;28;43mself\u001b[39;49m\u001b[38;5;241;43m.\u001b[39;49m\u001b[43m_make_engine\u001b[49m\u001b[43m(\u001b[49m\u001b[43mf\u001b[49m\u001b[43m,\u001b[49m\u001b[43m \u001b[49m\u001b[38;5;28;43mself\u001b[39;49m\u001b[38;5;241;43m.\u001b[39;49m\u001b[43mengine\u001b[49m\u001b[43m)\u001b[49m\n",
      "File \u001b[0;32m/usr/lib/venv/lib/python3.12/site-packages/pandas/io/parsers/readers.py:1880\u001b[0m, in \u001b[0;36mTextFileReader._make_engine\u001b[0;34m(self, f, engine)\u001b[0m\n\u001b[1;32m   1878\u001b[0m     \u001b[38;5;28;01mif\u001b[39;00m \u001b[38;5;124m\"\u001b[39m\u001b[38;5;124mb\u001b[39m\u001b[38;5;124m\"\u001b[39m \u001b[38;5;129;01mnot\u001b[39;00m \u001b[38;5;129;01min\u001b[39;00m mode:\n\u001b[1;32m   1879\u001b[0m         mode \u001b[38;5;241m+\u001b[39m\u001b[38;5;241m=\u001b[39m \u001b[38;5;124m\"\u001b[39m\u001b[38;5;124mb\u001b[39m\u001b[38;5;124m\"\u001b[39m\n\u001b[0;32m-> 1880\u001b[0m \u001b[38;5;28mself\u001b[39m\u001b[38;5;241m.\u001b[39mhandles \u001b[38;5;241m=\u001b[39m \u001b[43mget_handle\u001b[49m\u001b[43m(\u001b[49m\n\u001b[1;32m   1881\u001b[0m \u001b[43m    \u001b[49m\u001b[43mf\u001b[49m\u001b[43m,\u001b[49m\n\u001b[1;32m   1882\u001b[0m \u001b[43m    \u001b[49m\u001b[43mmode\u001b[49m\u001b[43m,\u001b[49m\n\u001b[1;32m   1883\u001b[0m \u001b[43m    \u001b[49m\u001b[43mencoding\u001b[49m\u001b[38;5;241;43m=\u001b[39;49m\u001b[38;5;28;43mself\u001b[39;49m\u001b[38;5;241;43m.\u001b[39;49m\u001b[43moptions\u001b[49m\u001b[38;5;241;43m.\u001b[39;49m\u001b[43mget\u001b[49m\u001b[43m(\u001b[49m\u001b[38;5;124;43m\"\u001b[39;49m\u001b[38;5;124;43mencoding\u001b[39;49m\u001b[38;5;124;43m\"\u001b[39;49m\u001b[43m,\u001b[49m\u001b[43m \u001b[49m\u001b[38;5;28;43;01mNone\u001b[39;49;00m\u001b[43m)\u001b[49m\u001b[43m,\u001b[49m\n\u001b[1;32m   1884\u001b[0m \u001b[43m    \u001b[49m\u001b[43mcompression\u001b[49m\u001b[38;5;241;43m=\u001b[39;49m\u001b[38;5;28;43mself\u001b[39;49m\u001b[38;5;241;43m.\u001b[39;49m\u001b[43moptions\u001b[49m\u001b[38;5;241;43m.\u001b[39;49m\u001b[43mget\u001b[49m\u001b[43m(\u001b[49m\u001b[38;5;124;43m\"\u001b[39;49m\u001b[38;5;124;43mcompression\u001b[39;49m\u001b[38;5;124;43m\"\u001b[39;49m\u001b[43m,\u001b[49m\u001b[43m \u001b[49m\u001b[38;5;28;43;01mNone\u001b[39;49;00m\u001b[43m)\u001b[49m\u001b[43m,\u001b[49m\n\u001b[1;32m   1885\u001b[0m \u001b[43m    \u001b[49m\u001b[43mmemory_map\u001b[49m\u001b[38;5;241;43m=\u001b[39;49m\u001b[38;5;28;43mself\u001b[39;49m\u001b[38;5;241;43m.\u001b[39;49m\u001b[43moptions\u001b[49m\u001b[38;5;241;43m.\u001b[39;49m\u001b[43mget\u001b[49m\u001b[43m(\u001b[49m\u001b[38;5;124;43m\"\u001b[39;49m\u001b[38;5;124;43mmemory_map\u001b[39;49m\u001b[38;5;124;43m\"\u001b[39;49m\u001b[43m,\u001b[49m\u001b[43m \u001b[49m\u001b[38;5;28;43;01mFalse\u001b[39;49;00m\u001b[43m)\u001b[49m\u001b[43m,\u001b[49m\n\u001b[1;32m   1886\u001b[0m \u001b[43m    \u001b[49m\u001b[43mis_text\u001b[49m\u001b[38;5;241;43m=\u001b[39;49m\u001b[43mis_text\u001b[49m\u001b[43m,\u001b[49m\n\u001b[1;32m   1887\u001b[0m \u001b[43m    \u001b[49m\u001b[43merrors\u001b[49m\u001b[38;5;241;43m=\u001b[39;49m\u001b[38;5;28;43mself\u001b[39;49m\u001b[38;5;241;43m.\u001b[39;49m\u001b[43moptions\u001b[49m\u001b[38;5;241;43m.\u001b[39;49m\u001b[43mget\u001b[49m\u001b[43m(\u001b[49m\u001b[38;5;124;43m\"\u001b[39;49m\u001b[38;5;124;43mencoding_errors\u001b[39;49m\u001b[38;5;124;43m\"\u001b[39;49m\u001b[43m,\u001b[49m\u001b[43m \u001b[49m\u001b[38;5;124;43m\"\u001b[39;49m\u001b[38;5;124;43mstrict\u001b[39;49m\u001b[38;5;124;43m\"\u001b[39;49m\u001b[43m)\u001b[49m\u001b[43m,\u001b[49m\n\u001b[1;32m   1888\u001b[0m \u001b[43m    \u001b[49m\u001b[43mstorage_options\u001b[49m\u001b[38;5;241;43m=\u001b[39;49m\u001b[38;5;28;43mself\u001b[39;49m\u001b[38;5;241;43m.\u001b[39;49m\u001b[43moptions\u001b[49m\u001b[38;5;241;43m.\u001b[39;49m\u001b[43mget\u001b[49m\u001b[43m(\u001b[49m\u001b[38;5;124;43m\"\u001b[39;49m\u001b[38;5;124;43mstorage_options\u001b[39;49m\u001b[38;5;124;43m\"\u001b[39;49m\u001b[43m,\u001b[49m\u001b[43m \u001b[49m\u001b[38;5;28;43;01mNone\u001b[39;49;00m\u001b[43m)\u001b[49m\u001b[43m,\u001b[49m\n\u001b[1;32m   1889\u001b[0m \u001b[43m\u001b[49m\u001b[43m)\u001b[49m\n\u001b[1;32m   1890\u001b[0m \u001b[38;5;28;01massert\u001b[39;00m \u001b[38;5;28mself\u001b[39m\u001b[38;5;241m.\u001b[39mhandles \u001b[38;5;129;01mis\u001b[39;00m \u001b[38;5;129;01mnot\u001b[39;00m \u001b[38;5;28;01mNone\u001b[39;00m\n\u001b[1;32m   1891\u001b[0m f \u001b[38;5;241m=\u001b[39m \u001b[38;5;28mself\u001b[39m\u001b[38;5;241m.\u001b[39mhandles\u001b[38;5;241m.\u001b[39mhandle\n",
      "File \u001b[0;32m/usr/lib/venv/lib/python3.12/site-packages/pandas/io/common.py:728\u001b[0m, in \u001b[0;36mget_handle\u001b[0;34m(path_or_buf, mode, encoding, compression, memory_map, is_text, errors, storage_options)\u001b[0m\n\u001b[1;32m    725\u001b[0m     codecs\u001b[38;5;241m.\u001b[39mlookup_error(errors)\n\u001b[1;32m    727\u001b[0m \u001b[38;5;66;03m# open URLs\u001b[39;00m\n\u001b[0;32m--> 728\u001b[0m ioargs \u001b[38;5;241m=\u001b[39m \u001b[43m_get_filepath_or_buffer\u001b[49m\u001b[43m(\u001b[49m\n\u001b[1;32m    729\u001b[0m \u001b[43m    \u001b[49m\u001b[43mpath_or_buf\u001b[49m\u001b[43m,\u001b[49m\n\u001b[1;32m    730\u001b[0m \u001b[43m    \u001b[49m\u001b[43mencoding\u001b[49m\u001b[38;5;241;43m=\u001b[39;49m\u001b[43mencoding\u001b[49m\u001b[43m,\u001b[49m\n\u001b[1;32m    731\u001b[0m \u001b[43m    \u001b[49m\u001b[43mcompression\u001b[49m\u001b[38;5;241;43m=\u001b[39;49m\u001b[43mcompression\u001b[49m\u001b[43m,\u001b[49m\n\u001b[1;32m    732\u001b[0m \u001b[43m    \u001b[49m\u001b[43mmode\u001b[49m\u001b[38;5;241;43m=\u001b[39;49m\u001b[43mmode\u001b[49m\u001b[43m,\u001b[49m\n\u001b[1;32m    733\u001b[0m \u001b[43m    \u001b[49m\u001b[43mstorage_options\u001b[49m\u001b[38;5;241;43m=\u001b[39;49m\u001b[43mstorage_options\u001b[49m\u001b[43m,\u001b[49m\n\u001b[1;32m    734\u001b[0m \u001b[43m\u001b[49m\u001b[43m)\u001b[49m\n\u001b[1;32m    736\u001b[0m handle \u001b[38;5;241m=\u001b[39m ioargs\u001b[38;5;241m.\u001b[39mfilepath_or_buffer\n\u001b[1;32m    737\u001b[0m handles: \u001b[38;5;28mlist\u001b[39m[BaseBuffer]\n",
      "File \u001b[0;32m/usr/lib/venv/lib/python3.12/site-packages/pandas/io/common.py:472\u001b[0m, in \u001b[0;36m_get_filepath_or_buffer\u001b[0;34m(filepath_or_buffer, encoding, compression, mode, storage_options)\u001b[0m\n\u001b[1;32m    468\u001b[0m \u001b[38;5;28;01mif\u001b[39;00m \u001b[38;5;129;01mnot\u001b[39;00m (\n\u001b[1;32m    469\u001b[0m     \u001b[38;5;28mhasattr\u001b[39m(filepath_or_buffer, \u001b[38;5;124m\"\u001b[39m\u001b[38;5;124mread\u001b[39m\u001b[38;5;124m\"\u001b[39m) \u001b[38;5;129;01mor\u001b[39;00m \u001b[38;5;28mhasattr\u001b[39m(filepath_or_buffer, \u001b[38;5;124m\"\u001b[39m\u001b[38;5;124mwrite\u001b[39m\u001b[38;5;124m\"\u001b[39m)\n\u001b[1;32m    470\u001b[0m ):\n\u001b[1;32m    471\u001b[0m     msg \u001b[38;5;241m=\u001b[39m \u001b[38;5;124mf\u001b[39m\u001b[38;5;124m\"\u001b[39m\u001b[38;5;124mInvalid file path or buffer object type: \u001b[39m\u001b[38;5;132;01m{\u001b[39;00m\u001b[38;5;28mtype\u001b[39m(filepath_or_buffer)\u001b[38;5;132;01m}\u001b[39;00m\u001b[38;5;124m\"\u001b[39m\n\u001b[0;32m--> 472\u001b[0m     \u001b[38;5;28;01mraise\u001b[39;00m \u001b[38;5;167;01mValueError\u001b[39;00m(msg)\n\u001b[1;32m    474\u001b[0m \u001b[38;5;28;01mreturn\u001b[39;00m IOArgs(\n\u001b[1;32m    475\u001b[0m     filepath_or_buffer\u001b[38;5;241m=\u001b[39mfilepath_or_buffer,\n\u001b[1;32m    476\u001b[0m     encoding\u001b[38;5;241m=\u001b[39mencoding,\n\u001b[0;32m   (...)\u001b[0m\n\u001b[1;32m    479\u001b[0m     mode\u001b[38;5;241m=\u001b[39mmode,\n\u001b[1;32m    480\u001b[0m )\n",
      "\u001b[0;31mValueError\u001b[0m: Invalid file path or buffer object type: <class 'NoneType'>"
     ]
    }
   ],
   "source": [
    "%run -i /mnt/volume_nyc1_01/users/jeff/DS_projects/literature_analysis/scripts/paper_recommendations.py"
   ]
  },
  {
   "cell_type": "code",
   "execution_count": 231,
   "id": "a0b2604f-5c73-4055-a74e-6532029eaf6d",
   "metadata": {},
   "outputs": [],
   "source": [
    "from gensim import models\n",
    "from gensim import corpora\n",
    "from gensim.similarities import SparseTermSimilarityMatrix, WordEmbeddingSimilarityIndex\n",
    "import nltk\n",
    "from nltk.corpus import stopwords\n",
    "import pickle\n",
    "import numpy as np\n",
    "import pandas as pd\n",
    "import source as lang_helper\n",
    "import os\n",
    "\n",
    "\n",
    "\n",
    "##RSS Feeds\n",
    "feeds = [\n",
    "            'https://www.nature.com/nrd.rss',\n",
    "            'https://www.nature.com/nbt.rss',\n",
    "            'https://www.nature.com/nature.rss',\n",
    "            'https://www.nature.com/ng.rss',\n",
    "            'https://www.nature.com/nm.rss',\n",
    "            'https://www.nature.com/ncb.rss',\n",
    "            'https://www.nature.com/ncomms.rss',\n",
    "            'https://www.nature.com/gt.rss',\n",
    "            'https://www.nature.com/jhg.rss',\n",
    "            'https://www.nature.com/nsmb.rss',\n",
    "            'https://www.nature.com/nrd.rss',\n",
    "            'https://www.cell.com/cell/inpress.rss',\n",
    "            'https://www.cell.com/molecular-cell/inpress.rss',\n",
    "            'https://www.science.org/action/showFeed?type=axatoc&feed=rss&jc=science',\n",
    "            'https://www.science.org/action/showFeed?type=etoc&feed=rss&jc=stm',\n",
    "            'https://www.nejm.org/action/showFeed?jc=nejm&type=etoc&feed=rss',\n",
    "            'https://eurjmedres.biomedcentral.com/articles/most-recent/rss.xml'\n",
    "        ]\n",
    "\n",
    "archive_directory = '/mnt/phillyvolume_01/users/jeff/DS_projects/literature_analysis/data/'\n",
    "papers_library = lang_helper.load_recent_library(archive_directory)"
   ]
  },
  {
   "cell_type": "code",
   "execution_count": 21,
   "id": "d88cf33c-bdcd-46f6-ab18-6e068ad4f98f",
   "metadata": {},
   "outputs": [
    {
     "ename": "NameError",
     "evalue": "name 'load_file_from_s3' is not defined",
     "output_type": "error",
     "traceback": [
      "\u001b[0;31m---------------------------------------------------------------------------\u001b[0m",
      "\u001b[0;31mNameError\u001b[0m                                 Traceback (most recent call last)",
      "Cell \u001b[0;32mIn[21], line 6\u001b[0m\n\u001b[1;32m      4\u001b[0m     \u001b[38;5;28mprint\u001b[39m(\u001b[38;5;124m'\u001b[39m\u001b[38;5;124mFound it\u001b[39m\u001b[38;5;124m'\u001b[39m)\n\u001b[1;32m      5\u001b[0m \u001b[38;5;28;01melse\u001b[39;00m:\n\u001b[0;32m----> 6\u001b[0m     \u001b[43mload_file_from_s3\u001b[49m(origin_path\u001b[38;5;241m=\u001b[39m\u001b[38;5;124m'\u001b[39m\u001b[38;5;124mlang_processing/gensim-data/pubmed2018_w2v_200D/pubmed2018_w2v_200D.bin\u001b[39m\u001b[38;5;124m'\u001b[39m,\n\u001b[1;32m      7\u001b[0m                        final_path\u001b[38;5;241m=\u001b[39mexpected_model_location)\n",
      "\u001b[0;31mNameError\u001b[0m: name 'load_file_from_s3' is not defined"
     ]
    }
   ],
   "source": [
    "# Load the Pubmed model or download it if it doesn't exist locally\n",
    "expected_model_location = '/mnt/volume_nyc1_01/users/jeff/DS_projects/literature_analysis/models/pubmed2018_w2v_200D.bin'\n",
    "if (os.path.exists(expected_model_location)):\n",
    "    print('Found it')\n",
    "else:\n",
    "    load_file_from_s3(origin_path='lang_processing/gensim-data/pubmed2018_w2v_200D/pubmed2018_w2v_200D.bin',\n",
    "                       final_path=expected_model_location)"
   ]
  },
  {
   "cell_type": "code",
   "execution_count": 1,
   "id": "7bcc1d90-0957-4908-816b-f7e3fb126ec6",
   "metadata": {},
   "outputs": [],
   "source": [
    "import source"
   ]
  },
  {
   "cell_type": "code",
   "execution_count": 2,
   "id": "ca995427-f018-433c-bb96-045957c7b0ee",
   "metadata": {},
   "outputs": [
    {
     "ename": "NameError",
     "evalue": "name 'load_file_from_s3' is not defined",
     "output_type": "error",
     "traceback": [
      "\u001b[0;31m---------------------------------------------------------------------------\u001b[0m",
      "\u001b[0;31mNameError\u001b[0m                                 Traceback (most recent call last)",
      "Cell \u001b[0;32mIn[2], line 6\u001b[0m\n\u001b[1;32m      4\u001b[0m     \u001b[38;5;28mprint\u001b[39m(\u001b[38;5;124m'\u001b[39m\u001b[38;5;124mFound it\u001b[39m\u001b[38;5;124m'\u001b[39m)\n\u001b[1;32m      5\u001b[0m \u001b[38;5;28;01melse\u001b[39;00m:\n\u001b[0;32m----> 6\u001b[0m     \u001b[43mload_file_from_s3\u001b[49m(origin_path\u001b[38;5;241m=\u001b[39m\u001b[38;5;124m'\u001b[39m\u001b[38;5;124mlang_processing/gensim-data/pubmed2018_w2v_200D/pubmed2018_w2v_200D.bin\u001b[39m\u001b[38;5;124m'\u001b[39m,\n\u001b[1;32m      7\u001b[0m                        final_path\u001b[38;5;241m=\u001b[39mexpected_model_location)\n",
      "\u001b[0;31mNameError\u001b[0m: name 'load_file_from_s3' is not defined"
     ]
    }
   ],
   "source": [
    "# Load the Pubmed model or download it if it doesn't exist locally\n",
    "expected_model_location = '/mnt/volume_nyc1_01/users/jeff/DS_projects/literature_analysis/models/pubmed2018_w2v_200D.bin'\n",
    "\n",
    "if (os.path.exists(expected_model_location)):\n",
    "    print('Found it')\n",
    "else:\n",
    "    load_file_from_s3(origin_path='lang_processing/gensim-data/pubmed2018_w2v_200D/pubmed2018_w2v_200D.bin',\n",
    "                       final_path=expected_model_location)"
   ]
  },
  {
   "cell_type": "code",
   "execution_count": 6,
   "id": "2f999d23-b698-41ce-9e73-5b8ef0005c5d",
   "metadata": {},
   "outputs": [],
   "source": [
    "def load_file_from_s3(origin_path, final_path, endpoint_url='https://nyc3.digitaloceanspaces.com', bucket='phillygenome-space'):\n",
    "\n",
    "    ##Get keys\n",
    "    s3_access_key = os.getenv('DO_ACCESS_KEY')\n",
    "    s3_secret_key = os.getenv('DO_SECRET_KEY')\n",
    "\n",
    "    s3_client = boto3.client(\n",
    "                             service_name = 's3',\n",
    "                             endpoint_url=endpoint_url,\n",
    "                             aws_access_key_id=s3_access_key,\n",
    "                             aws_secret_access_key=s3_secret_key\n",
    "    )\n",
    "\n",
    "    s3_client.download_file(bucket,\n",
    "                                   origin_path,\n",
    "                                   final_path\n",
    "                                  )"
   ]
  },
  {
   "cell_type": "code",
   "execution_count": 7,
   "id": "ec616741-764c-4958-bee8-37846c232715",
   "metadata": {},
   "outputs": [],
   "source": [
    "# Load the Pubmed model or download it if it doesn't exist locally\n",
    "expected_model_location = '/mnt/volume_nyc1_01/users/jeff/DS_projects/literature_analysis/models/pubmed2018_w2v_200D.bin'\n",
    "\n",
    "if (os.path.exists(expected_model_location)):\n",
    "    print('Found it')\n",
    "else:\n",
    "    load_file_from_s3(origin_path='lang_processing/gensim-data/pubmed2018_w2v_200D/pubmed2018_w2v_200D.bin',\n",
    "                       final_path=expected_model_location)"
   ]
  },
  {
   "cell_type": "code",
   "execution_count": 232,
   "id": "11726356-7990-4b8e-9309-26119697200e",
   "metadata": {},
   "outputs": [
    {
     "name": "stdout",
     "output_type": "stream",
     "text": [
      "12328\n",
      "7648\n"
     ]
    }
   ],
   "source": [
    "#Generate the dictionary to use for comparison\n",
    "dictionary = corpora.Dictionary(tokenized_library)\n",
    "dictionary.add_documents(tokenized_pubs)\n",
    "print(len(dictionary))\n",
    "dictionary.filter_tokens(bad_ids=[tokenid for tokenid, term in dictionary.items() if term not in pubmed_wordmodel]) # Filter the dictionary in place to include only terms present in pubmed_wordmodel\n",
    "print(len(dictionary))\n",
    "\n",
    "\n",
    "# Transform each document into a bag-of-words (BoW) format using the dictionary\n",
    "bow_corpus_paperslibrary = [dictionary.doc2bow(text) for text in tokenized_library]\n",
    "bow_corpus_rssfeed = [dictionary.doc2bow(text) for text in tokenized_pubs]\n",
    "combined_corpus = bow_corpus_paperslibrary + bow_corpus_rssfeed\n",
    "\n",
    "model_tfidf_paperslibrary = models.TfidfModel(bow_corpus_paperslibrary)\n",
    "model_tfidf_rssfeed = models.TfidfModel(bow_corpus_rssfeed)\n",
    "model_tfidf_combined = models.TfidfModel(combined_corpus)"
   ]
  },
  {
   "cell_type": "code",
   "execution_count": 9,
   "id": "69e1ecd7-e4d0-4493-867d-251bd9d7ad8f",
   "metadata": {},
   "outputs": [
    {
     "ename": "NameError",
     "evalue": "name 'bow_corpus_paperlibrary' is not defined",
     "output_type": "error",
     "traceback": [
      "\u001b[0;31m---------------------------------------------------------------------------\u001b[0m",
      "\u001b[0;31mNameError\u001b[0m                                 Traceback (most recent call last)",
      "Cell \u001b[0;32mIn[9], line 14\u001b[0m\n\u001b[1;32m     11\u001b[0m     \u001b[38;5;28;01mreturn\u001b[39;00m cosine_similarities\n\u001b[1;32m     13\u001b[0m \u001b[38;5;28;01mif\u001b[39;00m \u001b[38;5;28;01mTrue\u001b[39;00m: \u001b[38;5;66;03m##Update with condition\u001b[39;00m\n\u001b[0;32m---> 14\u001b[0m     library_self_similarity_matrix \u001b[38;5;241m=\u001b[39m get_cosine_matrix(bow_i \u001b[38;5;241m=\u001b[39m \u001b[43mbow_corpus_paperlibrary\u001b[49m)\n\u001b[1;32m     15\u001b[0m     topic_labels \u001b[38;5;241m=\u001b[39m compute_topics(library_self_similarity_matrix, num_topics\u001b[38;5;241m=\u001b[39m\u001b[38;5;241m15\u001b[39m)\n",
      "\u001b[0;31mNameError\u001b[0m: name 'bow_corpus_paperlibrary' is not defined"
     ]
    }
   ],
   "source": [
    "def get_cosine_matrix(termsim_matrix, bow_i, bow_j, normalized_value=(True, True)):\n",
    "    # Initialize matrix\n",
    "    matrix_size = (len(bow_i), len(bow_j))\n",
    "    cosine_similarities = np.zeros(matrix_size)\n",
    "\n",
    "    # Compute cosine similarities for each value\n",
    "    for i in range(matrix_size[0]):\n",
    "        for j in range(matrix_size[1]):\n",
    "            cosine_similarities[i,j] = termsim_matrix.innerproduct(bow_i[i], bow_j[j], normalized=normalized_value)\n",
    "\n",
    "    return cosine_similarities\n",
    "\n",
    "if True: ##Update with condition\n",
    "    library_self_similarity_matrix = get_cosine_matrix(bow_i = bow_corpus_paperlibrary)\n",
    "    topic_labels = compute_topics(library_self_similarity_matrix, num_topics=15)"
   ]
  },
  {
   "cell_type": "code",
   "execution_count": 2,
   "id": "23f1ba28-3fb4-4cf0-9f9e-6b340c5e4295",
   "metadata": {},
   "outputs": [
    {
     "name": "stdout",
     "output_type": "stream",
     "text": [
      "Found it\n",
      "12323\n",
      "7636\n"
     ]
    }
   ],
   "source": [
    "from gensim import models\n",
    "from gensim import corpora\n",
    "from gensim.similarities import SparseTermSimilarityMatrix, WordEmbeddingSimilarityIndex\n",
    "import nltk\n",
    "from nltk.corpus import stopwords\n",
    "import pickle\n",
    "import numpy as np\n",
    "import pandas as pd\n",
    "import source as lang_helper\n",
    "import os\n",
    "\n",
    "\n",
    "\n",
    "##RSS Feeds\n",
    "feeds = [\n",
    "            'https://www.nature.com/nrd.rss',\n",
    "            'https://www.nature.com/nbt.rss',\n",
    "            'https://www.nature.com/nature.rss',\n",
    "            'https://www.nature.com/ng.rss',\n",
    "            'https://www.nature.com/nm.rss',\n",
    "            'https://www.nature.com/ncb.rss',\n",
    "            'https://www.nature.com/ncomms.rss',\n",
    "            'https://www.nature.com/gt.rss',\n",
    "            'https://www.nature.com/jhg.rss',\n",
    "            'https://www.nature.com/nsmb.rss',\n",
    "            'https://www.cell.com/cell/inpress.rss',\n",
    "            'https://www.cell.com/molecular-cell/inpress.rss',\n",
    "            'https://www.science.org/action/showFeed?type=axatoc&feed=rss&jc=science',\n",
    "            'https://www.science.org/action/showFeed?type=etoc&feed=rss&jc=stm',\n",
    "            'https://www.nejm.org/action/showFeed?jc=nejm&type=etoc&feed=rss',\n",
    "            'https://eurjmedres.biomedcentral.com/articles/most-recent/rss.xml'\n",
    "        ]\n",
    "\n",
    "archive_directory = '/mnt/phillyvolume_01/users/jeff/DS_projects/literature_analysis/data/'\n",
    "papers_library = lang_helper.load_recent_library(archive_directory)\n",
    "\n",
    "\n",
    "# Load the Pubmed model or download it if it doesn't exist locally\n",
    "expected_model_location = '/mnt/phillyvolume_01/users/jeff/DS_projects/literature_analysis/models/pubmed2018_w2v_200D.bin'\n",
    "if (os.path.exists(expected_model_location)):\n",
    "    print('Found it')\n",
    "else:\n",
    "    load_file_from_s3(origin_path='lang_processing/gensim-data/pubmed2018_w2v_200D/pubmed2018_w2v_200D.bin',\n",
    "                       final_path=expected_model_location)\n",
    "\n",
    "pubmed_wordmodel = models.KeyedVectors.load_word2vec_format('/mnt/phillyvolume_01/users/jeff/DS_projects/literature_analysis/models/pubmed2018_w2v_200D.bin', binary=True)\n",
    "#with open(\"topic_indices.pkl\", \"rb\") as file:\n",
    "#        topic_indices = pickle.load(file)\n",
    "\n",
    "tokenized_library = lang_helper.tokenize_library(papers_library)\n",
    "pubs, tokenized_pubs = lang_helper.tokenize_feeds(feeds, type='title')\n",
    "\n",
    "#Generate the dictionary to use for comparison\n",
    "dictionary = corpora.Dictionary(tokenized_library)\n",
    "dictionary.add_documents(tokenized_pubs)\n",
    "print(len(dictionary))\n",
    "dictionary.filter_tokens(bad_ids=[tokenid for tokenid, term in dictionary.items() if term not in pubmed_wordmodel]) # Filter the dictionary in place to include only terms present in pubmed_wordmodel\n",
    "print(len(dictionary))"
   ]
  },
  {
   "cell_type": "code",
   "execution_count": 234,
   "id": "65fcfe73-f23b-46cb-b21f-6470cee0da7d",
   "metadata": {},
   "outputs": [
    {
     "name": "stderr",
     "output_type": "stream",
     "text": [
      "100%|██████████| 7581/7581 [14:11<00:00,  8.90it/s]\n"
     ]
    }
   ],
   "source": [
    "# Transform each document into a bag-of-words (BoW) format using the dictionary\n",
    "bow_corpus_paperslibrary = [dictionary.doc2bow(text) for text in tokenized_library]\n",
    "bow_corpus_rssfeed = [dictionary.doc2bow(text) for text in tokenized_pubs]\n",
    "combined_corpus = bow_corpus_paperslibrary + bow_corpus_rssfeed\n",
    "\n",
    "model_tfidf_paperslibrary = models.TfidfModel(bow_corpus_paperslibrary)\n",
    "model_tfidf_rssfeed = models.TfidfModel(bow_corpus_rssfeed)\n",
    "model_tfidf_combined = models.TfidfModel(combined_corpus)\n",
    "\n",
    "termsim_index = WordEmbeddingSimilarityIndex(pubmed_wordmodel)\n",
    "termsim_matrix = SparseTermSimilarityMatrix(source=termsim_index, dictionary=dictionary, tfidf=model_tfidf_combined)\n",
    "\n"
   ]
  },
  {
   "cell_type": "code",
   "execution_count": 235,
   "id": "f6dcd6d8-de7b-49db-9988-f573630508dd",
   "metadata": {},
   "outputs": [],
   "source": [
    "\n",
    "\n",
    "library_pubs_similarity_matrix = lang_helper.get_cosine_matrix(termsim_matrix, bow_i = bow_corpus_paperslibrary, bow_j = bow_corpus_rssfeed)\n",
    "\n",
    "if True: ##Update with condition\n",
    "    library_self_similarity_matrix = lang_helper.get_cosine_matrix(termsim_matrix, bow_i = bow_corpus_paperslibrary, bow_j = bow_corpus_paperslibrary)\n",
    "    topic_labels = lang_helper.compute_topics(library_self_similarity_matrix, num_topics=15)\n",
    "\n",
    "topic_pubs_similarity_matrix = lang_helper.get_topic_similarity(library_pubs_similarity_matrix, topic_labels)"
   ]
  },
  {
   "cell_type": "code",
   "execution_count": 1,
   "id": "f9f2ed22-6b6e-4c95-8646-d18292e1d4dd",
   "metadata": {},
   "outputs": [],
   "source": [
    "from gensim import models\n",
    "from gensim import corpora\n",
    "from gensim.similarities import SparseTermSimilarityMatrix, WordEmbeddingSimilarityIndex\n",
    "import nltk\n",
    "from nltk.corpus import stopwords\n",
    "import pickle\n",
    "import numpy as np\n",
    "import pandas as pd\n",
    "import source as lang_helper\n",
    "import os"
   ]
  },
  {
   "cell_type": "code",
   "execution_count": 5,
   "id": "49f3eb4c-66df-48f1-b393-aa5e7baf955c",
   "metadata": {},
   "outputs": [
    {
     "data": {
      "text/plain": [
       "(15, 306)"
      ]
     },
     "execution_count": 5,
     "metadata": {},
     "output_type": "execute_result"
    }
   ],
   "source": [
    "topic_pubs_similarity_matrix.shape"
   ]
  },
  {
   "cell_type": "code",
   "execution_count": 13,
   "id": "29dcd05b-da09-4544-9fbb-d7fdccd9616f",
   "metadata": {},
   "outputs": [
    {
     "data": {
      "text/plain": [
       "'Lentiviral Gene Therapy with CD34+ Hematopoietic Cells for Hemophilia A'"
      ]
     },
     "execution_count": 13,
     "metadata": {},
     "output_type": "execute_result"
    }
   ],
   "source": [
    "max_index = np.unravel_index(np.argmax(topic_pubs_similarity_matrix), topic_pubs_similarity_matrix.shape)\n",
    "max_value = topic_pubs_similarity_matrix[max_index]\n",
    "pubs[max_index[1]]"
   ]
  },
  {
   "cell_type": "code",
   "execution_count": 14,
   "id": "b9b34fbf-8083-4bd9-8342-5ec8026e9327",
   "metadata": {},
   "outputs": [
    {
     "data": {
      "text/plain": [
       "'Biopharma dealmaking in 2024'"
      ]
     },
     "execution_count": 14,
     "metadata": {},
     "output_type": "execute_result"
    }
   ],
   "source": [
    "min_index = np.unravel_index(np.argmin(topic_pubs_similarity_matrix), topic_pubs_similarity_matrix.shape)\n",
    "min_value = topic_pubs_similarity_matrix[min_index]\n",
    "pubs[min_index[1]]"
   ]
  },
  {
   "cell_type": "code",
   "execution_count": 9,
   "id": "1f1b20bf-7f44-43d1-9f44-6237e738580a",
   "metadata": {},
   "outputs": [],
   "source": [
    "def extract_tfidf_keywords(tfidf_model, dictionary, bow_doc, n=5):\n",
    "    \"\"\"\n",
    "    Extracts the top `n` keywords from a BoW document using a trained TF-IDF model.\n",
    "\n",
    "    Parameters:\n",
    "    - tfidf_model: Trained Gensim TfidfModel\n",
    "    - dictionary: Gensim Dictionary mapping words to IDs\n",
    "    - bow_doc: BoW representation of a document (list of (word_id, count) tuples)\n",
    "    - n: Number of top keywords to extract\n",
    "\n",
    "    Returns:\n",
    "    - List of top `n` keywords for the document\n",
    "    \"\"\"\n",
    "    tfidf_weights = tfidf_model[bow_doc]  # Compute TF-IDF scores for words in the document\n",
    "    sorted_tfidf = sorted(tfidf_weights, key=lambda x: x[1], reverse=True)  # Sort by score\n",
    "\n",
    "    top_n_keywords = [dictionary[word_id] for word_id, _ in sorted_tfidf[:n]]  # Convert IDs to words\n",
    "    return top_n_keywords"
   ]
  },
  {
   "cell_type": "code",
   "execution_count": 10,
   "id": "a288f806-2b42-4133-af90-92115118a92f",
   "metadata": {},
   "outputs": [
    {
     "ename": "IndexError",
     "evalue": "list index out of range",
     "output_type": "error",
     "traceback": [
      "\u001b[0;31m---------------------------------------------------------------------------\u001b[0m",
      "\u001b[0;31mIndexError\u001b[0m                                Traceback (most recent call last)",
      "Cell \u001b[0;32mIn[10], line 1\u001b[0m\n\u001b[0;32m----> 1\u001b[0m \u001b[43mextract_tfidf_keywords\u001b[49m\u001b[43m(\u001b[49m\u001b[43mmodel_tfidf_paperslibrary\u001b[49m\u001b[43m,\u001b[49m\u001b[43m \u001b[49m\u001b[43mdictionary\u001b[49m\u001b[43m,\u001b[49m\u001b[43m \u001b[49m\u001b[43mbow_corpus_paperslibrary\u001b[49m\u001b[43m)\u001b[49m\n",
      "Cell \u001b[0;32mIn[9], line 15\u001b[0m, in \u001b[0;36mextract_tfidf_keywords\u001b[0;34m(tfidf_model, dictionary, bow_doc, n)\u001b[0m\n\u001b[1;32m      2\u001b[0m \u001b[38;5;250m\u001b[39m\u001b[38;5;124;03m\"\"\"\u001b[39;00m\n\u001b[1;32m      3\u001b[0m \u001b[38;5;124;03mExtracts the top `n` keywords from a BoW document using a trained TF-IDF model.\u001b[39;00m\n\u001b[1;32m      4\u001b[0m \n\u001b[0;32m   (...)\u001b[0m\n\u001b[1;32m     12\u001b[0m \u001b[38;5;124;03m- List of top `n` keywords for the document\u001b[39;00m\n\u001b[1;32m     13\u001b[0m \u001b[38;5;124;03m\"\"\"\u001b[39;00m\n\u001b[1;32m     14\u001b[0m tfidf_weights \u001b[38;5;241m=\u001b[39m tfidf_model[bow_doc]  \u001b[38;5;66;03m# Compute TF-IDF scores for words in the document\u001b[39;00m\n\u001b[0;32m---> 15\u001b[0m sorted_tfidf \u001b[38;5;241m=\u001b[39m \u001b[38;5;28;43msorted\u001b[39;49m\u001b[43m(\u001b[49m\u001b[43mtfidf_weights\u001b[49m\u001b[43m,\u001b[49m\u001b[43m \u001b[49m\u001b[43mkey\u001b[49m\u001b[38;5;241;43m=\u001b[39;49m\u001b[38;5;28;43;01mlambda\u001b[39;49;00m\u001b[43m \u001b[49m\u001b[43mx\u001b[49m\u001b[43m:\u001b[49m\u001b[43m \u001b[49m\u001b[43mx\u001b[49m\u001b[43m[\u001b[49m\u001b[38;5;241;43m1\u001b[39;49m\u001b[43m]\u001b[49m\u001b[43m,\u001b[49m\u001b[43m \u001b[49m\u001b[43mreverse\u001b[49m\u001b[38;5;241;43m=\u001b[39;49m\u001b[38;5;28;43;01mTrue\u001b[39;49;00m\u001b[43m)\u001b[49m  \u001b[38;5;66;03m# Sort by score\u001b[39;00m\n\u001b[1;32m     17\u001b[0m top_n_keywords \u001b[38;5;241m=\u001b[39m [dictionary[word_id] \u001b[38;5;28;01mfor\u001b[39;00m word_id, _ \u001b[38;5;129;01min\u001b[39;00m sorted_tfidf[:n]]  \u001b[38;5;66;03m# Convert IDs to words\u001b[39;00m\n\u001b[1;32m     18\u001b[0m \u001b[38;5;28;01mreturn\u001b[39;00m top_n_keywords\n",
      "Cell \u001b[0;32mIn[9], line 15\u001b[0m, in \u001b[0;36mextract_tfidf_keywords.<locals>.<lambda>\u001b[0;34m(x)\u001b[0m\n\u001b[1;32m      2\u001b[0m \u001b[38;5;250m\u001b[39m\u001b[38;5;124;03m\"\"\"\u001b[39;00m\n\u001b[1;32m      3\u001b[0m \u001b[38;5;124;03mExtracts the top `n` keywords from a BoW document using a trained TF-IDF model.\u001b[39;00m\n\u001b[1;32m      4\u001b[0m \n\u001b[0;32m   (...)\u001b[0m\n\u001b[1;32m     12\u001b[0m \u001b[38;5;124;03m- List of top `n` keywords for the document\u001b[39;00m\n\u001b[1;32m     13\u001b[0m \u001b[38;5;124;03m\"\"\"\u001b[39;00m\n\u001b[1;32m     14\u001b[0m tfidf_weights \u001b[38;5;241m=\u001b[39m tfidf_model[bow_doc]  \u001b[38;5;66;03m# Compute TF-IDF scores for words in the document\u001b[39;00m\n\u001b[0;32m---> 15\u001b[0m sorted_tfidf \u001b[38;5;241m=\u001b[39m \u001b[38;5;28msorted\u001b[39m(tfidf_weights, key\u001b[38;5;241m=\u001b[39m\u001b[38;5;28;01mlambda\u001b[39;00m x: \u001b[43mx\u001b[49m\u001b[43m[\u001b[49m\u001b[38;5;241;43m1\u001b[39;49m\u001b[43m]\u001b[49m, reverse\u001b[38;5;241m=\u001b[39m\u001b[38;5;28;01mTrue\u001b[39;00m)  \u001b[38;5;66;03m# Sort by score\u001b[39;00m\n\u001b[1;32m     17\u001b[0m top_n_keywords \u001b[38;5;241m=\u001b[39m [dictionary[word_id] \u001b[38;5;28;01mfor\u001b[39;00m word_id, _ \u001b[38;5;129;01min\u001b[39;00m sorted_tfidf[:n]]  \u001b[38;5;66;03m# Convert IDs to words\u001b[39;00m\n\u001b[1;32m     18\u001b[0m \u001b[38;5;28;01mreturn\u001b[39;00m top_n_keywords\n",
      "\u001b[0;31mIndexError\u001b[0m: list index out of range"
     ]
    }
   ],
   "source": [
    "extract_tfidf_keywords(model_tfidf_paperslibrary, dictionary, bow_corpus_paperslibrary)"
   ]
  },
  {
   "cell_type": "code",
   "execution_count": 107,
   "id": "e0a9cae5-1c5c-4365-ac05-325af2ebba18",
   "metadata": {},
   "outputs": [],
   "source": [
    "def extract_lda_keywords(dictionary, bow_corpus):\n",
    "    \"\"\"\n",
    "\n",
    "\n",
    "    \"\"\"\n",
    "    #Train the LDA model\n",
    "    lda = models.LdaModel(bow_corpus, num_topics=1, id2word=dictionary, passes=10)\n",
    "    #keywords = [lda.get_topic_terms(id, topn=10)[0] for id in topic_ids]\n",
    "    topic_terms = lda.get_topic_terms(topicid=0, topn=5)\n",
    "    keyword_ids = list(x[0] for x in topic_terms) ##Gaves list of keyword ids\n",
    "    keywords = [dictionary[id] for id in keyword_ids]\n",
    "\n",
    "    return keywords"
   ]
  },
  {
   "cell_type": "code",
   "execution_count": 108,
   "id": "a5778357-1784-4f13-b333-8536e1c43644",
   "metadata": {},
   "outputs": [],
   "source": [
    "topic_keys = extract_lda_keywords(dictionary, bow_corpus_paperslibrary)"
   ]
  },
  {
   "cell_type": "code",
   "execution_count": 73,
   "id": "a77dc164-c6e2-4654-959b-591577a4de6e",
   "metadata": {},
   "outputs": [
    {
     "data": {
      "text/plain": [
       "array([ 2,  7,  2,  5,  2,  6,  8,  8,  6,  9,  8,  2,  4,  2,  6,  8,  8,\n",
       "       11,  2,  8,  2, 14,  6, 12,  8,  6, 14,  2,  9,  7,  2,  2,  6, 11,\n",
       "       11,  2,  2,  3,  8,  6,  2,  2,  8, 11,  2, 10,  8,  5,  8, 12,  2,\n",
       "        8,  2,  2,  5,  8,  7,  8,  7,  2, 11,  2,  5,  2,  2,  4,  7,  5,\n",
       "        5,  5,  2,  2,  2,  8,  2,  2,  2,  7,  6,  8,  5, 14, 12,  7,  8,\n",
       "        2,  2,  5,  2,  7, 12,  2,  6,  2,  2,  8,  2,  8,  8,  8, 12, 14,\n",
       "        2,  2,  2,  6,  8,  7,  2,  7, 11, 11,  6,  9,  5, 10,  5,  5,  2,\n",
       "       11,  5,  7,  2,  2,  2, 11,  2, 10,  6,  8,  6, 12,  8,  8, 14,  5,\n",
       "        2,  2,  7,  7,  7,  8,  2,  8,  2,  5,  2,  2, 11, 10,  7,  8, 11,\n",
       "        7,  2,  2, 14,  7,  2,  7, 10,  8,  7,  8,  2,  2,  8,  2,  7, 14,\n",
       "        5, 10,  5,  8,  2,  7,  5,  2,  5,  5,  6,  7,  2, 10, 10, 14,  3,\n",
       "        5,  5,  9,  9,  9,  9,  5, 13,  7, 11,  7,  7,  8,  8,  9, 14,  1,\n",
       "        8,  2, 11,  8,  7,  7, 10, 10, 10, 10, 10, 10,  2, 10, 10,  8,  8,\n",
       "        1,  6,  8,  8,  7, 10, 10, 10, 10,  1,  7,  7, 10, 10,  8,  7,  6,\n",
       "        6,  6,  6,  7,  7,  6,  6,  5,  8,  8,  8,  8,  5,  7,  7,  6,  6,\n",
       "        5,  5,  8, 10, 10, 14, 10,  6,  6,  3,  8,  9,  9,  7, 14, 14, 14,\n",
       "        8,  8,  7,  7,  9,  9,  9,  9, 10, 12,  8,  8,  6, 14,  9,  8, 14,\n",
       "        8,  6,  7,  8,  5, 15, 15, 15, 12,  9, 14,  7,  7,  8,  6,  5,  8,\n",
       "       10,  5, 10, 10, 10, 10,  6, 14, 12, 12,  2,  7, 10, 11,  8,  8,  7,\n",
       "        8,  8,  8,  7,  6,  7,  7, 14,  5], dtype=int32)"
      ]
     },
     "execution_count": 73,
     "metadata": {},
     "output_type": "execute_result"
    }
   ],
   "source": []
  },
  {
   "cell_type": "code",
   "execution_count": 109,
   "id": "78c6f1ef-28af-4db6-913e-c7f65fda2576",
   "metadata": {},
   "outputs": [],
   "source": [
    "def extract_cluster_docs(bow_corpus, topic_labels, cluster_num):\n",
    "    cluster_indices = np.where(topic_labels == cluster_num)[0]\n",
    "    cluster_corpus = [bow_corpus[indx] for indx in cluster_indices]\n",
    "    \n",
    "    return cluster_corpus"
   ]
  },
  {
   "cell_type": "code",
   "execution_count": 140,
   "id": "8be42fd6-32ac-4633-af24-6ef5cc00b6f5",
   "metadata": {},
   "outputs": [],
   "source": [
    "extracted_corpus = extract_cluster_docs(bow_corpus_paperslibrary, topic_labels, cluster_num = 9)"
   ]
  },
  {
   "cell_type": "code",
   "execution_count": 141,
   "id": "ddeb5ef5-fad1-4db6-8aa5-1d9011fbed4c",
   "metadata": {},
   "outputs": [
    {
     "name": "stdout",
     "output_type": "stream",
     "text": [
      "['enhancer', 'enhancers', 'transcription', 'lsd1', 'sox2']\n"
     ]
    }
   ],
   "source": [
    "topic_keys = extract_lda_keywords(dictionary, extracted_corpus)\n",
    "print(topic_keys)"
   ]
  },
  {
   "cell_type": "code",
   "execution_count": 210,
   "id": "541e8173-df46-4f9b-a2af-07776a1ea2e7",
   "metadata": {},
   "outputs": [
    {
     "name": "stdout",
     "output_type": "stream",
     "text": [
      "Topic Keywords: ['pulmonary', 'hypertension', 'arterial', 'sotatercept', 'associated']\n"
     ]
    },
    {
     "data": {
      "image/png": "[encoded data removed]",
      "text/plain": [
       "<Figure size 640x480 with 1 Axes>"
      ]
     },
     "metadata": {},
     "output_type": "display_data"
    }
   ],
   "source": [
    "cluster_num = 15\n",
    "extracted_corpus = extract_cluster_docs(bow_corpus_paperslibrary, topic_labels, cluster_num = cluster_num)\n",
    "topic_keys = extract_lda_keywords(dictionary, extracted_corpus)\n",
    "print(\"Topic Keywords:\", topic_keys)\n",
    "\n",
    "cluster_indices = np.where(topic_labels == cluster_num)[0]\n",
    "sorted_sims = np.sort(topic_pubs_similarity_matrix[cluster_num - 1])[::-1]\n",
    "\n",
    "plt.hist(sorted_sims, bins='auto', color='blue', alpha=0.7, edgecolor='black')\n",
    "plt.xlabel(\"Value\")\n",
    "plt.ylabel(\"Frequency\")\n",
    "plt.title(f\"Histogram of Sorted Values from Row\")\n",
    "plt.show()"
   ]
  },
  {
   "cell_type": "markdown",
   "id": "ab1fa097-11d1-43f9-97e3-519f524433f0",
   "metadata": {},
   "source": [
    "#### cluster_num = 9\n",
    "extracted_corpus = extract_cluster_docs(bow_corpus_paperslibrary, topic_labels, cluster_num = 9)\n",
    "topic_keys = extract_lda_keywords(dictionary, extracted_corpus)\n",
    "print(\"Topic Keywords:\", topic_keys)\n",
    "top_cluster_pubs = np.where(topic_pubs_similarity_matrix[cluster_num] > 0.075)[0]\n",
    "for pub_idx in top_cluster_pubs:\n",
    "    print(\"Matching Pub:  \", pubs[pub_idx])"
   ]
  },
  {
   "cell_type": "code",
   "execution_count": 214,
   "id": "81009c0f-6f98-4163-83bf-074128285874",
   "metadata": {},
   "outputs": [
    {
     "name": "stdout",
     "output_type": "stream",
     "text": [
      "Topic Keywords: ['pulmonary', 'hypertension', 'arterial', 'disease', 'associated']\n",
      "Matching Pub:   Cytoplasmic mRNA decay controlling inflammatory gene expression is determined by pre-mRNA fate decision\n",
      "Matching Pub:   Fine-tuning of gene expression through the Mettl3-Mettl14-Dnmt1 axis controls ESC differentiation\n",
      "Matching Pub:   An atlas of transcription initiation reveals regulatory principles of gene and transposable element expression in early mammalian development\n"
     ]
    }
   ],
   "source": [
    "cluster_num = 15\n",
    "extracted_corpus = extract_cluster_docs(bow_corpus_paperslibrary, topic_labels, cluster_num = cluster_num)\n",
    "topic_keys = extract_lda_keywords(dictionary, extracted_corpus)\n",
    "print(\"Topic Keywords:\", topic_keys)\n",
    "\n",
    "\n",
    "matching_pubs = get_topic_matching_pubs(topic_pubs_similarity_matrix, topic_num = 14)\n",
    "for p in matching_pubs:\n",
    "    print(\"Matching Pub:  \", p)"
   ]
  },
  {
   "cell_type": "code",
   "execution_count": 180,
   "id": "79cc3374-c203-43a1-9fba-f84b4f28ccbe",
   "metadata": {},
   "outputs": [
    {
     "data": {
      "text/plain": [
       "array([ 2,  7,  2,  5,  2,  6,  8,  8,  6,  9,  8,  2,  4,  2,  6,  8,  8,\n",
       "       11,  2,  8,  2, 14,  6, 12,  8,  6, 14,  2,  9,  7,  2,  2,  6, 11,\n",
       "       11,  2,  2,  3,  8,  6,  2,  2,  8, 11,  2, 10,  8,  5,  8, 12,  2,\n",
       "        8,  2,  2,  5,  8,  7,  8,  7,  2, 11,  2,  5,  2,  2,  4,  7,  5,\n",
       "        5,  5,  2,  2,  2,  8,  2,  2,  2,  7,  6,  8,  5, 14, 12,  7,  8,\n",
       "        2,  2,  5,  2,  7, 12,  2,  6,  2,  2,  8,  2,  8,  8,  8, 12, 14,\n",
       "        2,  2,  2,  6,  8,  7,  2,  7, 11, 11,  6,  9,  5, 10,  5,  5,  2,\n",
       "       11,  5,  7,  2,  2,  2, 11,  2, 10,  6,  8,  6, 12,  8,  8, 14,  5,\n",
       "        2,  2,  7,  7,  7,  8,  2,  8,  2,  5,  2,  2, 11, 10,  7,  8, 11,\n",
       "        7,  2,  2, 14,  7,  2,  7, 10,  8,  7,  8,  2,  2,  8,  2,  7, 14,\n",
       "        5, 10,  5,  8,  2,  7,  5,  2,  5,  5,  6,  7,  2, 10, 10, 14,  3,\n",
       "        5,  5,  9,  9,  9,  9,  5, 13,  7, 11,  7,  7,  8,  8,  9, 14,  1,\n",
       "        8,  2, 11,  8,  7,  7, 10, 10, 10, 10, 10, 10,  2, 10, 10,  8,  8,\n",
       "        1,  6,  8,  8,  7, 10, 10, 10, 10,  1,  7,  7, 10, 10,  8,  7,  6,\n",
       "        6,  6,  6,  7,  7,  6,  6,  5,  8,  8,  8,  8,  5,  7,  7,  6,  6,\n",
       "        5,  5,  8, 10, 10, 14, 10,  6,  6,  3,  8,  9,  9,  7, 14, 14, 14,\n",
       "        8,  8,  7,  7,  9,  9,  9,  9, 10, 12,  8,  8,  6, 14,  9,  8, 14,\n",
       "        8,  6,  7,  8,  5, 15, 15, 15, 12,  9, 14,  7,  7,  8,  6,  5,  8,\n",
       "       10,  5, 10, 10, 10, 10,  6, 14, 12, 12,  2,  7, 10, 11,  8,  8,  7,\n",
       "        8,  8,  8,  7,  6,  7,  7, 14,  5], dtype=int32)"
      ]
     },
     "execution_count": 180,
     "metadata": {},
     "output_type": "execute_result"
    }
   ],
   "source": [
    "topic_labels"
   ]
  },
  {
   "cell_type": "code",
   "execution_count": 236,
   "id": "41223701-faf5-4538-a730-8e535a6a4384",
   "metadata": {},
   "outputs": [
    {
     "name": "stdout",
     "output_type": "stream",
     "text": [
      "Papers of interest for this week\n",
      "---------------------------------\n",
      "\n",
      "For topic characterized by keywords ['kidney', 'gene', 'cell', 'therapy', 'disease']\n",
      "\n",
      "Pub of interest:  NEJM at AHA — Phase 1 Study of AAV9.LAMP2B Gene Therapy in Danon Disease\n",
      "Pub of interest:  Phase 1 Study of AAV9.LAMP2B Gene Therapy in Danon Disease\n",
      "Pub of interest:  Long-Term Effects of Empagliflozin in Patients with Chronic Kidney Disease\n",
      "Pub of interest:  Cell and Gene Therapies — Improving Access and Outcomes for Medicare and Medicaid Beneficiaries\n",
      "Pub of interest:  Correction: RapaCaspase-9-based suicide gene applied to the safety of IL-1RAP CAR-T cells\n",
      "Pub of interest:  Identifying novel response markers for spinal muscular atrophy revealed by targeted proteomics following gene therapy\n",
      "Pub of interest:  A neoantigen vaccine generates antitumour immunity in renal cell carcinoma\n",
      "////////////\n",
      "\n",
      "For topic characterized by keywords ['gene', 'vector', 'aav', 'clinical', 'adeno-associated']\n",
      "\n",
      "////////////\n",
      "\n",
      "For topic characterized by keywords ['dna', 'is110', 'target', 'rna', 'genetic']\n",
      "\n",
      "Pub of interest:  A PARP2 active site helix melts to permit DNA damage-induced enzymatic activation\n",
      "Pub of interest:  RNA 5-methylcytosine marks mitochondrial double-stranded RNAs for degradation and cytosolic release\n",
      "Pub of interest:  How one language family took over the world: ancient DNA traces its spread\n",
      "Pub of interest:  Quantifying metabolites using structure-switching aptamers coupled to DNA sequencing\n",
      "////////////\n",
      "\n",
      "For topic characterized by keywords ['factor', 'thrombin', 'activation', 'model', 'generation']\n",
      "\n",
      "////////////\n",
      "\n",
      "For topic characterized by keywords ['alpha', 'thrombus', 'body', '1at', 'costs']\n",
      "\n",
      "////////////\n",
      "\n",
      "For topic characterized by keywords ['clinical', 'therapeutic', 'drug', 'development', 'potential']\n",
      "\n",
      "////////////\n",
      "\n",
      "For topic characterized by keywords ['cell', 'cells', 'human', 'stem', 'immune']\n",
      "\n",
      "////////////\n",
      "\n",
      "For topic characterized by keywords ['variants', 'genetic', 'human', 'patients', 'disease']\n",
      "\n",
      "////////////\n",
      "\n",
      "For topic characterized by keywords ['enhancer', 'enhancers', 'transcription', 'lsd1', 'sox2']\n",
      "\n",
      "////////////\n",
      "\n",
      "For topic characterized by keywords ['kidney', 'disease', 'renal', 'pkd1', 'chronic']\n",
      "\n",
      "////////////\n",
      "\n",
      "For topic characterized by keywords ['patients', 'factor', 'bleeding', 'per', 'viii']\n",
      "\n",
      "Pub of interest:  Antibiotic Treatment for 7 versus 14 Days in Patients with Bloodstream Infections\n",
      "////////////\n",
      "\n",
      "For topic characterized by keywords ['pulmonary', 'mice', 'human', 'gene', 'vascular']\n",
      "\n",
      "////////////\n",
      "\n",
      "For topic characterized by keywords ['therapy', 'cells', 'vector', 'containing', 'consisting']\n",
      "\n",
      "Pub of interest:  Correction: RapaCaspase-9-based suicide gene applied to the safety of IL-1RAP CAR-T cells\n",
      "////////////\n",
      "\n",
      "For topic characterized by keywords ['gene', 'expression', 'genes', 'human', 'mrna']\n",
      "\n",
      "Pub of interest:  Cytoplasmic mRNA decay controlling inflammatory gene expression is determined by pre-mRNA fate decision\n",
      "Pub of interest:  Fine-tuning of gene expression through the Mettl3-Mettl14-Dnmt1 axis controls ESC differentiation\n",
      "Pub of interest:  An atlas of transcription initiation reveals regulatory principles of gene and transposable element expression in early mammalian development\n",
      "////////////\n",
      "\n",
      "\n"
     ]
    }
   ],
   "source": [
    "email_message = \"Papers of interest for this week\\n\"\n",
    "email_message += \"---------------------------------\\n\\n\"\n",
    "\n",
    "\n",
    "for num in range(1, 15):\n",
    "    \n",
    "    extracted_corpus = extract_cluster_docs(bow_corpus_paperslibrary, topic_labels, cluster_num = num)\n",
    "    topic_keys = extract_lda_keywords(dictionary, extracted_corpus)\n",
    "    email_message += f\"\"\"For topic characterized by keywords {topic_keys}\\n\\n\"\"\"\n",
    "    \n",
    "    matching_pubs = get_topic_matching_pubs(topic_pubs_similarity_matrix, topic_num = num)\n",
    "    for pub in matching_pubs:\n",
    "        email_message += f\"\"\"Pub of interest:  {pub}\\n\"\"\"\n",
    "    email_message += \"////////////\\n\\n\"\n",
    "    \n",
    "print(email_message)"
   ]
  },
  {
   "cell_type": "code",
   "execution_count": 26,
   "id": "76294b34-6b30-4fd4-bd16-10d956b5bb83",
   "metadata": {},
   "outputs": [
    {
     "name": "stdout",
     "output_type": "stream",
     "text": [
      "Email sent successfully!\n"
     ]
    }
   ],
   "source": [
    "import importlib\n",
    "#importlib.reload(source)\n",
    "lang_helper.send_email(email_message, \"jeff.m.alexander@gmail.com\")"
   ]
  },
  {
   "cell_type": "code",
   "execution_count": 18,
   "id": "e1ad2991-5ba0-4c7a-855d-0ba3b1d513d1",
   "metadata": {},
   "outputs": [],
   "source": [
    "def send_email(message, to_address):\n",
    "    # Email account details\n",
    "    SMTP_SERVER = \"smtp.sendgrid.net\"\n",
    "    SMTP_PORT = 587\n",
    "    SENDGRID_API_KEY = os.getenv('SG_API_KEY')  # Replace with your actual API key\n",
    "    EMAIL_ADDRESS = \"bot@phillygenome.xyz\"\n",
    "\n",
    "    # Recipient details\n",
    "    TO_EMAIL = to_address\n",
    "    SUBJECT = \"Publications of Interest\"\n",
    "    BODY = message\n",
    "\n",
    "    # Create the email\n",
    "    msg = MIMEText(BODY)\n",
    "    msg[\"Subject\"] = SUBJECT\n",
    "    msg[\"From\"] = EMAIL_ADDRESS\n",
    "    msg[\"To\"] = TO_EMAIL\n",
    "\n",
    "    # Send the email\n",
    "    try:\n",
    "        with smtplib.SMTP(SMTP_SERVER, SMTP_PORT) as server:\n",
    "            server.starttls()  # Secure the connection\n",
    "            server.login(\"apikey\", SENDGRID_API_KEY)  # Use \"apikey\" as the username\n",
    "            server.sendmail(EMAIL_ADDRESS, TO_EMAIL, msg.as_string())\n",
    "            server.quit()\n",
    "            print(\"Email sent successfully!\")\n",
    "    except Exception as e:\n",
    "        print(f\"Failed to send email: {e}\")"
   ]
  },
  {
   "cell_type": "code",
   "execution_count": 25,
   "id": "f579cbf3-1f34-4db3-aeea-4a4c6d47879a",
   "metadata": {},
   "outputs": [],
   "source": [
    "email_message = \"Test\""
   ]
  },
  {
   "cell_type": "code",
   "execution_count": 4,
   "id": "1d9ab0e7-6769-4579-bcca-3623dee58cc1",
   "metadata": {},
   "outputs": [],
   "source": [
    "import feedparser"
   ]
  },
  {
   "cell_type": "code",
   "execution_count": 11,
   "id": "dec3d8fa-cf2f-4f46-a781-85eec34318e5",
   "metadata": {},
   "outputs": [],
   "source": [
    "feed = feedparser.parse('https://www.cell.com/cell/inpress.rss')"
   ]
  },
  {
   "cell_type": "code",
   "execution_count": 16,
   "id": "83bb8a36-2873-4808-a227-2a92c5c85117",
   "metadata": {},
   "outputs": [
    {
     "data": {
      "text/plain": [
       "'https://www.cell.com/cell/fulltext/S0092-8674(25)00097-2?rss=yes'"
      ]
     },
     "execution_count": 16,
     "metadata": {},
     "output_type": "execute_result"
    }
   ],
   "source": [
    "feed['entries'][0]['link']"
   ]
  },
  {
   "cell_type": "code",
   "execution_count": null,
   "id": "beb97d01-09f0-4547-85be-6bf916b7a17f",
   "metadata": {},
   "outputs": [],
   "source": []
  }
 ],
 "metadata": {
  "kernelspec": {
   "display_name": "Python 3 (ipykernel)",
   "language": "python",
   "name": "python3"
  },
  "language_info": {
   "codemirror_mode": {
    "name": "ipython",
    "version": 3
   },
   "file_extension": ".py",
   "mimetype": "text/x-python",
   "name": "python",
   "nbconvert_exporter": "python",
   "pygments_lexer": "ipython3",
   "version": "3.12.3"
  }
 },
 "nbformat": 4,
 "nbformat_minor": 5
}
